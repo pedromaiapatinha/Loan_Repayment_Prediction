{
 "cells": [
  {
   "cell_type": "markdown",
   "id": "15e4bb57",
   "metadata": {
    "toc": true
   },
   "source": [
    "<h1>Table of Contents<span class=\"tocSkip\"></span></h1>\n",
    "<div class=\"toc\"><ul class=\"toc-item\"><li><span><a href=\"#Exploratory-Data-Analysis\" data-toc-modified-id=\"Exploratory-Data-Analysis-1\"><span class=\"toc-item-num\">1&nbsp;&nbsp;</span>Exploratory Data Analysis</a></span></li><li><span><a href=\"#Data-Transformation\" data-toc-modified-id=\"Data-Transformation-2\"><span class=\"toc-item-num\">2&nbsp;&nbsp;</span>Data Transformation</a></span></li><li><span><a href=\"#Decision-Tree-Classification\" data-toc-modified-id=\"Decision-Tree-Classification-3\"><span class=\"toc-item-num\">3&nbsp;&nbsp;</span>Decision Tree Classification</a></span></li><li><span><a href=\"#Decision-Tree-Visualization\" data-toc-modified-id=\"Decision-Tree-Visualization-4\"><span class=\"toc-item-num\">4&nbsp;&nbsp;</span>Decision Tree Visualization</a></span></li><li><span><a href=\"#Make-Predictions\" data-toc-modified-id=\"Make-Predictions-5\"><span class=\"toc-item-num\">5&nbsp;&nbsp;</span>Make Predictions</a></span></li></ul></div>"
   ]
  },
  {
   "cell_type": "code",
   "execution_count": 1,
   "id": "fbf4fe4c",
   "metadata": {},
   "outputs": [],
   "source": [
    "import pandas as pd\n",
    "import numpy as np\n",
    "from sklearn.model_selection import train_test_split\n",
    "from sklearn.tree import DecisionTreeClassifier\n",
    "from sklearn.metrics import accuracy_score\n",
    "from sklearn import tree\n",
    "import matplotlib.pyplot as plt"
   ]
  },
  {
   "cell_type": "code",
   "execution_count": 2,
   "id": "e0846048",
   "metadata": {},
   "outputs": [],
   "source": [
    "df = pd.read_csv('Loans_Dataset.csv', sep= ',')"
   ]
  },
  {
   "cell_type": "markdown",
   "id": "7a2fa357",
   "metadata": {},
   "source": [
    "## Exploratory Data Analysis"
   ]
  },
  {
   "cell_type": "code",
   "execution_count": 3,
   "id": "cfe5ab11",
   "metadata": {},
   "outputs": [
    {
     "name": "stdout",
     "output_type": "stream",
     "text": [
      "Dataset Lenght:  1000\n",
      "Dataset Shape:  (1000, 6)\n"
     ]
    }
   ],
   "source": [
    "print (\"Dataset Lenght: \", len(df))\n",
    "print (\"Dataset Shape: \", df.shape)"
   ]
  },
  {
   "cell_type": "code",
   "execution_count": 4,
   "id": "f91047bb",
   "metadata": {},
   "outputs": [
    {
     "name": "stdout",
     "output_type": "stream",
     "text": [
      "<class 'pandas.core.frame.DataFrame'>\n",
      "RangeIndex: 1000 entries, 0 to 999\n",
      "Data columns (total 6 columns):\n",
      " #   Column           Non-Null Count  Dtype \n",
      "---  ------           --------------  ----- \n",
      " 0   initial_payment  1000 non-null   int64 \n",
      " 1   last_payment     1000 non-null   int64 \n",
      " 2   credit_score     1000 non-null   int64 \n",
      " 3   house_number     1000 non-null   int64 \n",
      " 4   sum              1000 non-null   int64 \n",
      " 5   result           1000 non-null   object\n",
      "dtypes: int64(5), object(1)\n",
      "memory usage: 47.0+ KB\n"
     ]
    }
   ],
   "source": [
    "df.info()"
   ]
  },
  {
   "cell_type": "code",
   "execution_count": 5,
   "id": "7275fbb9",
   "metadata": {},
   "outputs": [
    {
     "data": {
      "text/html": [
       "<div>\n",
       "<style scoped>\n",
       "    .dataframe tbody tr th:only-of-type {\n",
       "        vertical-align: middle;\n",
       "    }\n",
       "\n",
       "    .dataframe tbody tr th {\n",
       "        vertical-align: top;\n",
       "    }\n",
       "\n",
       "    .dataframe thead th {\n",
       "        text-align: right;\n",
       "    }\n",
       "</style>\n",
       "<table border=\"1\" class=\"dataframe\">\n",
       "  <thead>\n",
       "    <tr style=\"text-align: right;\">\n",
       "      <th></th>\n",
       "      <th>initial_payment</th>\n",
       "      <th>last_payment</th>\n",
       "      <th>credit_score</th>\n",
       "      <th>house_number</th>\n",
       "      <th>sum</th>\n",
       "      <th>result</th>\n",
       "    </tr>\n",
       "  </thead>\n",
       "  <tbody>\n",
       "    <tr>\n",
       "      <th>0</th>\n",
       "      <td>201</td>\n",
       "      <td>10018</td>\n",
       "      <td>250</td>\n",
       "      <td>3046</td>\n",
       "      <td>13515</td>\n",
       "      <td>yes</td>\n",
       "    </tr>\n",
       "    <tr>\n",
       "      <th>1</th>\n",
       "      <td>205</td>\n",
       "      <td>10016</td>\n",
       "      <td>395</td>\n",
       "      <td>3044</td>\n",
       "      <td>13660</td>\n",
       "      <td>yes</td>\n",
       "    </tr>\n",
       "    <tr>\n",
       "      <th>2</th>\n",
       "      <td>257</td>\n",
       "      <td>10129</td>\n",
       "      <td>109</td>\n",
       "      <td>3251</td>\n",
       "      <td>13746</td>\n",
       "      <td>yes</td>\n",
       "    </tr>\n",
       "    <tr>\n",
       "      <th>3</th>\n",
       "      <td>246</td>\n",
       "      <td>10064</td>\n",
       "      <td>324</td>\n",
       "      <td>3137</td>\n",
       "      <td>13771</td>\n",
       "      <td>yes</td>\n",
       "    </tr>\n",
       "    <tr>\n",
       "      <th>4</th>\n",
       "      <td>117</td>\n",
       "      <td>10115</td>\n",
       "      <td>496</td>\n",
       "      <td>3094</td>\n",
       "      <td>13822</td>\n",
       "      <td>yes</td>\n",
       "    </tr>\n",
       "    <tr>\n",
       "      <th>...</th>\n",
       "      <td>...</td>\n",
       "      <td>...</td>\n",
       "      <td>...</td>\n",
       "      <td>...</td>\n",
       "      <td>...</td>\n",
       "      <td>...</td>\n",
       "    </tr>\n",
       "    <tr>\n",
       "      <th>995</th>\n",
       "      <td>413</td>\n",
       "      <td>14914</td>\n",
       "      <td>523</td>\n",
       "      <td>4683</td>\n",
       "      <td>20533</td>\n",
       "      <td>No</td>\n",
       "    </tr>\n",
       "    <tr>\n",
       "      <th>996</th>\n",
       "      <td>359</td>\n",
       "      <td>14423</td>\n",
       "      <td>927</td>\n",
       "      <td>4838</td>\n",
       "      <td>20547</td>\n",
       "      <td>No</td>\n",
       "    </tr>\n",
       "    <tr>\n",
       "      <th>997</th>\n",
       "      <td>316</td>\n",
       "      <td>14872</td>\n",
       "      <td>613</td>\n",
       "      <td>4760</td>\n",
       "      <td>20561</td>\n",
       "      <td>No</td>\n",
       "    </tr>\n",
       "    <tr>\n",
       "      <th>998</th>\n",
       "      <td>305</td>\n",
       "      <td>14926</td>\n",
       "      <td>897</td>\n",
       "      <td>4572</td>\n",
       "      <td>20700</td>\n",
       "      <td>No</td>\n",
       "    </tr>\n",
       "    <tr>\n",
       "      <th>999</th>\n",
       "      <td>168</td>\n",
       "      <td>14798</td>\n",
       "      <td>834</td>\n",
       "      <td>4937</td>\n",
       "      <td>20737</td>\n",
       "      <td>No</td>\n",
       "    </tr>\n",
       "  </tbody>\n",
       "</table>\n",
       "<p>1000 rows × 6 columns</p>\n",
       "</div>"
      ],
      "text/plain": [
       "     initial_payment  last_payment  credit_score  house_number    sum result\n",
       "0                201         10018           250          3046  13515    yes\n",
       "1                205         10016           395          3044  13660    yes\n",
       "2                257         10129           109          3251  13746    yes\n",
       "3                246         10064           324          3137  13771    yes\n",
       "4                117         10115           496          3094  13822    yes\n",
       "..               ...           ...           ...           ...    ...    ...\n",
       "995              413         14914           523          4683  20533     No\n",
       "996              359         14423           927          4838  20547     No\n",
       "997              316         14872           613          4760  20561     No\n",
       "998              305         14926           897          4572  20700     No\n",
       "999              168         14798           834          4937  20737     No\n",
       "\n",
       "[1000 rows x 6 columns]"
      ]
     },
     "execution_count": 5,
     "metadata": {},
     "output_type": "execute_result"
    }
   ],
   "source": [
    "df"
   ]
  },
  {
   "cell_type": "markdown",
   "id": "fa491859",
   "metadata": {},
   "source": [
    "## Data Transformation"
   ]
  },
  {
   "cell_type": "code",
   "execution_count": 6,
   "id": "428b4220",
   "metadata": {},
   "outputs": [],
   "source": [
    "df.drop(columns=['sum'], inplace=True)"
   ]
  },
  {
   "cell_type": "code",
   "execution_count": 7,
   "id": "81bfa72f",
   "metadata": {},
   "outputs": [],
   "source": [
    "df[\"result\"] = np.where(df[\"result\"] == \"yes\", 1, 0)"
   ]
  },
  {
   "cell_type": "code",
   "execution_count": 8,
   "id": "2e943930",
   "metadata": {},
   "outputs": [],
   "source": [
    "X = df.drop(columns=['result'])\n",
    "Y = df['result']"
   ]
  },
  {
   "cell_type": "code",
   "execution_count": 9,
   "id": "7b2ca029",
   "metadata": {},
   "outputs": [],
   "source": [
    "X_train, X_test, y_train, y_test = train_test_split(X, Y, test_size = 0.3, random_state = 100)"
   ]
  },
  {
   "cell_type": "markdown",
   "id": "48230177",
   "metadata": {},
   "source": [
    "## Decision Tree Classification\n",
    "\n",
    "https://scikit-learn.org/stable/modules/generated/sklearn.tree.DecisionTreeClassifier.html"
   ]
  },
  {
   "cell_type": "code",
   "execution_count": 10,
   "id": "b64e24c2",
   "metadata": {},
   "outputs": [
    {
     "data": {
      "text/plain": [
       "DecisionTreeClassifier(criterion='entropy', max_depth=3, min_samples_leaf=5,\n",
       "                       random_state=100)"
      ]
     },
     "execution_count": 10,
     "metadata": {},
     "output_type": "execute_result"
    }
   ],
   "source": [
    "clf_entropy = DecisionTreeClassifier(criterion = \"entropy\",\n",
    "                                     random_state = 100,\n",
    "                                     max_depth=3,\n",
    "                                     min_samples_leaf=5)\n",
    "clf_entropy.fit(X_train, y_train)"
   ]
  },
  {
   "cell_type": "code",
   "execution_count": 11,
   "id": "cc7c7044",
   "metadata": {},
   "outputs": [
    {
     "data": {
      "text/plain": [
       "array([1, 1, 0, 1, 0, 1, 1, 1, 0, 0, 0, 0, 1, 0, 0, 1, 1, 0, 1, 0, 0, 1,\n",
       "       0, 1, 1, 0, 0, 1, 0, 0, 0, 1, 1, 1, 1, 0, 0, 0, 1, 0, 1, 1, 1, 0,\n",
       "       0, 1, 1, 1, 0, 0, 1, 0, 1, 1, 1, 1, 0, 1, 0, 1, 1, 0, 1, 1, 0, 1,\n",
       "       1, 1, 0, 0, 0, 0, 0, 1, 0, 1, 1, 0, 1, 0, 0, 0, 0, 1, 0, 1, 0, 1,\n",
       "       1, 0, 1, 1, 1, 1, 1, 0, 1, 1, 1, 1, 0, 0, 1, 1, 0, 1, 1, 1, 0, 1,\n",
       "       1, 1, 1, 0, 0, 1, 1, 1, 0, 0, 0, 0, 1, 1, 0, 1, 1, 1, 0, 0, 1, 1,\n",
       "       0, 1, 1, 1, 0, 1, 1, 0, 0, 1, 1, 1, 0, 1, 1, 1, 1, 0, 1, 0, 0, 0,\n",
       "       0, 1, 0, 0, 0, 1, 1, 0, 1, 1, 0, 1, 0, 1, 0, 0, 1, 1, 0, 1, 0, 1,\n",
       "       1, 0, 0, 0, 0, 0, 1, 0, 0, 1, 1, 1, 1, 1, 0, 1, 0, 1, 0, 0, 0, 1,\n",
       "       1, 0, 0, 0, 1, 1, 0, 0, 1, 1, 0, 0, 1, 1, 1, 1, 1, 1, 1, 1, 1, 0,\n",
       "       1, 1, 0, 0, 1, 0, 1, 1, 0, 0, 1, 0, 1, 1, 1, 1, 0, 0, 0, 0, 1, 1,\n",
       "       0, 1, 1, 0, 1, 0, 0, 0, 0, 1, 0, 0, 0, 0, 0, 0, 0, 1, 1, 1, 1, 1,\n",
       "       1, 0, 0, 0, 0, 1, 0, 1, 1, 1, 0, 0, 0, 0, 1, 0, 1, 0, 0, 0, 1, 1,\n",
       "       0, 1, 1, 1, 0, 0, 1, 0, 1, 1, 0, 0, 1, 1])"
      ]
     },
     "execution_count": 11,
     "metadata": {},
     "output_type": "execute_result"
    }
   ],
   "source": [
    "y_pred = clf_entropy.predict(X_test)\n",
    "y_pred"
   ]
  },
  {
   "cell_type": "code",
   "execution_count": 12,
   "id": "fde7c7e2",
   "metadata": {},
   "outputs": [
    {
     "name": "stdout",
     "output_type": "stream",
     "text": [
      "Training set score: 0.96\n",
      "Test set score: 0.94\n"
     ]
    }
   ],
   "source": [
    "print('Training set score: {:.2f}'.format(clf_entropy.score(X_train, y_train)))\n",
    "print('Test set score: {:.2f}'.format(clf_entropy.score(X_test, y_test)))"
   ]
  },
  {
   "cell_type": "markdown",
   "id": "0283cca1",
   "metadata": {},
   "source": [
    "Here, the training-set accuracy score is 0.96 while the test-set accuracy to be 0.94. These two values are quite comparable. So, there is no sign of overfitting."
   ]
  },
  {
   "cell_type": "markdown",
   "id": "1a9f1bf1",
   "metadata": {},
   "source": [
    "## Decision Tree Visualization"
   ]
  },
  {
   "cell_type": "code",
   "execution_count": 13,
   "id": "26cf12f8",
   "metadata": {},
   "outputs": [
    {
     "data": {
      "text/plain": [
       "[Text(446.4, 380.52, 'X[1] <= 12545.0\\nentropy = 0.997\\nsamples = 700\\nvalue = [374, 326]'),\n",
       " Text(223.2, 271.8, 'X[1] <= 11566.5\\nentropy = 0.534\\nsamples = 345\\nvalue = [42, 303]'),\n",
       " Text(111.6, 163.07999999999998, 'X[0] <= 485.5\\nentropy = 0.045\\nsamples = 204\\nvalue = [1, 203]'),\n",
       " Text(55.8, 54.360000000000014, 'entropy = 0.0\\nsamples = 199\\nvalue = [0, 199]'),\n",
       " Text(167.39999999999998, 54.360000000000014, 'entropy = 0.722\\nsamples = 5\\nvalue = [1, 4]'),\n",
       " Text(334.79999999999995, 163.07999999999998, 'X[3] <= 4343.5\\nentropy = 0.87\\nsamples = 141\\nvalue = [41, 100]'),\n",
       " Text(279.0, 54.360000000000014, 'entropy = 0.302\\nsamples = 93\\nvalue = [5, 88]'),\n",
       " Text(390.59999999999997, 54.360000000000014, 'entropy = 0.811\\nsamples = 48\\nvalue = [36, 12]'),\n",
       " Text(669.5999999999999, 271.8, 'X[1] <= 13235.5\\nentropy = 0.346\\nsamples = 355\\nvalue = [332, 23]'),\n",
       " Text(558.0, 163.07999999999998, 'X[3] <= 3588.5\\nentropy = 0.788\\nsamples = 89\\nvalue = [68, 21]'),\n",
       " Text(502.2, 54.360000000000014, 'entropy = 0.811\\nsamples = 24\\nvalue = [6, 18]'),\n",
       " Text(613.8, 54.360000000000014, 'entropy = 0.27\\nsamples = 65\\nvalue = [62, 3]'),\n",
       " Text(781.1999999999999, 163.07999999999998, 'X[0] <= 128.5\\nentropy = 0.064\\nsamples = 266\\nvalue = [264, 2]'),\n",
       " Text(725.4, 54.360000000000014, 'entropy = 0.402\\nsamples = 25\\nvalue = [23, 2]'),\n",
       " Text(837.0, 54.360000000000014, 'entropy = 0.0\\nsamples = 241\\nvalue = [241, 0]')]"
      ]
     },
     "execution_count": 13,
     "metadata": {},
     "output_type": "execute_result"
    },
    {
     "data": {
      "image/png": "[encoded data removed]",
      "text/plain": [
       "<Figure size 1152x576 with 1 Axes>"
      ]
     },
     "metadata": {
      "needs_background": "light"
     },
     "output_type": "display_data"
    }
   ],
   "source": [
    "plt.figure(figsize=(16,8))\n",
    "\n",
    "tree.plot_tree(clf_entropy.fit(X_train, y_train)) "
   ]
  },
  {
   "cell_type": "markdown",
   "id": "0f64b0ed",
   "metadata": {},
   "source": [
    "## Make Predictions"
   ]
  },
  {
   "cell_type": "code",
   "execution_count": 14,
   "id": "40342c88",
   "metadata": {},
   "outputs": [],
   "source": [
    "client = np.array([[168, 14798, 834, 4937]])"
   ]
  },
  {
   "cell_type": "code",
   "execution_count": 15,
   "id": "536b72c1",
   "metadata": {},
   "outputs": [
    {
     "data": {
      "text/plain": [
       "array([0])"
      ]
     },
     "execution_count": 15,
     "metadata": {},
     "output_type": "execute_result"
    }
   ],
   "source": [
    "clf_entropy.predict(client)"
   ]
  },
  {
   "cell_type": "code",
   "execution_count": null,
   "id": "67d276aa",
   "metadata": {},
   "outputs": [],
   "source": []
  }
 ],
 "metadata": {
  "kernelspec": {
   "display_name": "Python 3",
   "language": "python",
   "name": "python3"
  },
  "language_info": {
   "codemirror_mode": {
    "name": "ipython",
    "version": 3
   },
   "file_extension": ".py",
   "mimetype": "text/x-python",
   "name": "python",
   "nbconvert_exporter": "python",
   "pygments_lexer": "ipython3",
   "version": "3.8.8"
  },
  "toc": {
   "base_numbering": 1,
   "nav_menu": {},
   "number_sections": true,
   "sideBar": true,
   "skip_h1_title": true,
   "title_cell": "Table of Contents",
   "title_sidebar": "Contents",
   "toc_cell": true,
   "toc_position": {},
   "toc_section_display": true,
   "toc_window_display": false
  }
 },
 "nbformat": 4,
 "nbformat_minor": 5
}
